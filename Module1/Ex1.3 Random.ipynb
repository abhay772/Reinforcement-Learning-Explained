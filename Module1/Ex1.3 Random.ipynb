{
 "cells": [
  {
   "cell_type": "markdown",
   "metadata": {},
   "source": [
    "# DAT257x: Reinforcement Learning Explained\n",
    "\n",
    "## Lab 1: Environments and Agents\n",
    "\n",
    "### Exercise 3: Random Agent"
   ]
  },
  {
   "cell_type": "markdown",
   "metadata": {},
   "source": [
    "Now that you have examine the SimpleRoomsEnv and CliffWalkingEnv environments in the Environments.py file, let's play around with an agent in those environments."
   ]
  },
  {
   "cell_type": "code",
   "execution_count": 3,
   "metadata": {
    "collapsed": true
   },
   "outputs": [
    {
     "name": "stdout",
     "output_type": "stream",
     "text": [
      "Requirement already satisfied: gym in d:\\miniconda3\\lib\\site-packages (from -r ../requirements.txt (line 1)) (0.21.0)\n",
      "Requirement already satisfied: numpy in d:\\miniconda3\\lib\\site-packages (from -r ../requirements.txt (line 2)) (1.20.3)\n",
      "Requirement already satisfied: pandas in d:\\miniconda3\\lib\\site-packages (from -r ../requirements.txt (line 3)) (1.3.4)\n",
      "Requirement already satisfied: matplotlib in d:\\miniconda3\\lib\\site-packages (from -r ../requirements.txt (line 4)) (3.5.0)\n",
      "Requirement already satisfied: cloudpickle>=1.2.0 in d:\\miniconda3\\lib\\site-packages (from gym->-r ../requirements.txt (line 1)) (2.0.0)\n",
      "Requirement already satisfied: pytz>=2017.3 in d:\\miniconda3\\lib\\site-packages (from pandas->-r ../requirements.txt (line 3)) (2021.3)\n",
      "Requirement already satisfied: python-dateutil>=2.7.3 in d:\\miniconda3\\lib\\site-packages (from pandas->-r ../requirements.txt (line 3)) (2.8.2)\n",
      "Requirement already satisfied: six>=1.5 in d:\\miniconda3\\lib\\site-packages (from python-dateutil>=2.7.3->pandas->-r ../requirements.txt (line 3)) (1.16.0)\n",
      "Requirement already satisfied: pyparsing>=2.2.1 in d:\\miniconda3\\lib\\site-packages (from matplotlib->-r ../requirements.txt (line 4)) (3.0.4)\n",
      "Requirement already satisfied: kiwisolver>=1.0.1 in d:\\miniconda3\\lib\\site-packages (from matplotlib->-r ../requirements.txt (line 4)) (1.3.1)\n",
      "Requirement already satisfied: fonttools>=4.22.0 in d:\\miniconda3\\lib\\site-packages (from matplotlib->-r ../requirements.txt (line 4)) (4.25.0)\n",
      "Requirement already satisfied: pillow>=6.2.0 in d:\\miniconda3\\lib\\site-packages (from matplotlib->-r ../requirements.txt (line 4)) (8.4.0)\n",
      "Requirement already satisfied: cycler>=0.10 in d:\\miniconda3\\lib\\site-packages (from matplotlib->-r ../requirements.txt (line 4)) (0.11.0)\n",
      "Requirement already satisfied: packaging>=20.0 in d:\\miniconda3\\lib\\site-packages (from matplotlib->-r ../requirements.txt (line 4)) (21.3)\n"
     ]
    }
   ],
   "source": [
    "!pip install -r ../requirements.txt"
   ]
  },
  {
   "cell_type": "code",
   "execution_count": 1,
   "metadata": {},
   "outputs": [],
   "source": [
    "import numpy as np\n",
    "import sys\n",
    "\n",
    "if \"../\" not in sys.path:\n",
    "    sys.path.append(\"../\") \n",
    "\n",
    "from lib.envs.simple_rooms import SimpleRoomsEnv\n",
    "from lib.envs.cliff_walking import CliffWalkingEnv\n",
    "from lib.simulation import Experiment"
   ]
  },
  {
   "cell_type": "markdown",
   "metadata": {},
   "source": [
    "Below is the agent interface. At the minimum, an agent will have an act() function that takes an observation, and return an action."
   ]
  },
  {
   "cell_type": "code",
   "execution_count": null,
   "metadata": {
    "collapsed": true
   },
   "outputs": [],
   "source": [
    "class Agent(object):\n",
    "\n",
    "    def __init__(self, actions):\n",
    "        self.actions = actions\n",
    "        self.num_actions = len(actions)\n",
    "\n",
    "    def act(self, obs):\n",
    "        raise NotImplementedError"
   ]
  },
  {
   "cell_type": "markdown",
   "metadata": {},
   "source": [
    "We've given you the implementation of a random agent. It's act() function will just return a random action within the valid action space."
   ]
  },
  {
   "cell_type": "code",
   "execution_count": null,
   "metadata": {
    "collapsed": true
   },
   "outputs": [],
   "source": [
    "class RandomAgent(Agent):\n",
    "    \n",
    "    def __init__(self, actions):\n",
    "        super(RandomAgent, self).__init__(actions)\n",
    "    \n",
    "    def act(self, obs):\n",
    "        return np.random.randint(0, self.num_actions)"
   ]
  },
  {
   "cell_type": "markdown",
   "metadata": {},
   "source": [
    "Now let's run the experiment. We'll start with the SimpleRoomsEnv environment, with just 5 episodes."
   ]
  },
  {
   "cell_type": "code",
   "execution_count": null,
   "metadata": {
    "collapsed": true
   },
   "outputs": [],
   "source": [
    "interactive = True\n",
    "%matplotlib nbagg    "
   ]
  },
  {
   "cell_type": "code",
   "execution_count": null,
   "metadata": {
    "scrolled": false
   },
   "outputs": [],
   "source": [
    "max_number_of_episodes = 5\n",
    "env = SimpleRoomsEnv()\n",
    "agent = RandomAgent(range(env.action_space.n))\n",
    "experiment = Experiment(env, agent)\n",
    "experiment.run_agent(max_number_of_episodes, interactive)"
   ]
  },
  {
   "cell_type": "markdown",
   "metadata": {},
   "source": [
    "Let's do one with the CliffWalkingEnv environment. This time with 10 episodes."
   ]
  },
  {
   "cell_type": "code",
   "execution_count": null,
   "metadata": {},
   "outputs": [],
   "source": [
    "max_number_of_episodes = 10\n",
    "env = CliffWalkingEnv()\n",
    "agent = RandomAgent(range(env.action_space.n))\n",
    "experiment = Experiment(env, agent)\n",
    "experiment.run_agent(max_number_of_episodes, interactive)"
   ]
  },
  {
   "cell_type": "markdown",
   "metadata": {},
   "source": [
    "Let's set interactive to False, and run the experiments again. This time with 100 episodes each."
   ]
  },
  {
   "cell_type": "code",
   "execution_count": null,
   "metadata": {
    "collapsed": true
   },
   "outputs": [],
   "source": [
    "interactive = False\n",
    "%matplotlib inline  "
   ]
  },
  {
   "cell_type": "code",
   "execution_count": null,
   "metadata": {},
   "outputs": [],
   "source": [
    "max_number_of_episodes = 100\n",
    "env = SimpleRoomsEnv()\n",
    "agent = RandomAgent(range(env.action_space.n))\n",
    "experiment = Experiment(env, agent)\n",
    "experiment.run_agent(max_number_of_episodes, interactive)"
   ]
  },
  {
   "cell_type": "code",
   "execution_count": null,
   "metadata": {},
   "outputs": [],
   "source": [
    "max_number_of_episodes = 100\n",
    "env = CliffWalkingEnv()\n",
    "agent = RandomAgent(range(env.action_space.n))\n",
    "experiment = Experiment(env, agent)\n",
    "experiment.run_agent(max_number_of_episodes, interactive)"
   ]
  },
  {
   "cell_type": "code",
   "execution_count": null,
   "metadata": {
    "collapsed": true
   },
   "outputs": [],
   "source": []
  }
 ],
 "metadata": {
  "kernelspec": {
   "display_name": "virEnv",
   "language": "python",
   "name": "virenv"
  },
  "language_info": {
   "codemirror_mode": {
    "name": "ipython",
    "version": 3
   },
   "file_extension": ".py",
   "mimetype": "text/x-python",
   "name": "python",
   "nbconvert_exporter": "python",
   "pygments_lexer": "ipython3",
   "version": "3.9.9"
  }
 },
 "nbformat": 4,
 "nbformat_minor": 2
}
